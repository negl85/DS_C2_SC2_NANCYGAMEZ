{
  "nbformat": 4,
  "nbformat_minor": 0,
  "metadata": {
    "colab": {
      "provenance": [],
      "authorship_tag": "ABX9TyPVQVHzNXJXKaVMjMgf8vA/",
      "include_colab_link": true
    },
    "kernelspec": {
      "name": "python3",
      "display_name": "Python 3"
    },
    "language_info": {
      "name": "python"
    }
  },
  "cells": [
    {
      "cell_type": "markdown",
      "metadata": {
        "id": "view-in-github",
        "colab_type": "text"
      },
      "source": [
        "<a href=\"https://colab.research.google.com/github/negl85/DS_C2_SC2_NANCYGAMEZ/blob/main/Solucion_Reto_SC_63_Nancy_Gamez_I2.ipynb\" target=\"_parent\"><img src=\"https://colab.research.google.com/assets/colab-badge.svg\" alt=\"Open In Colab\"/></a>"
      ]
    },
    {
      "cell_type": "markdown",
      "source": [
        "Cargar datos y obtener información de las variables"
      ],
      "metadata": {
        "id": "IcxwDdNbMSYe"
      }
    },
    {
      "cell_type": "code",
      "source": [
        "import pandas as pd\n",
        "import gdown\n",
        "\n",
        "# URL de descarga del archivo\n",
        "url = 'https://drive.google.com/uc?id=1TOcljFt08cx98toDGo-wIJzs44fHcvt4'\n",
        "\n",
        "# Descargar el archivo desde Google Drive\n",
        "output = 'archivo.csv'\n",
        "gdown.download(url, output, quiet=False)\n",
        "\n",
        "# Cargar el archivo CSV en un DataFrame\n",
        "df = pd.read_csv(output)\n",
        "\n",
        "print(df.head(4))\n",
        "\n",
        "# Verificar la estructura del DataFrame\n",
        "print(\"Número de filas y columnas:\")\n",
        "print(df.shape)  # Muestra el número de filas y columnas\n",
        "\n",
        "# Identificar los tipos de datos de cada columna\n",
        "print(\"\\nTipos de datos de cada columna:\")\n",
        "print(df.dtypes)  # Muestra los tipos de datos de cada columna\n",
        "\n",
        "# Determinar si hay valores faltantes en el conjunto de datos\n",
        "print(\"\\nValores faltantes:\")\n",
        "print(df.isnull().sum())  # Muestra la cantidad de valores faltantes por columna\n",
        "\n",
        "# Explorar estadísticas descriptivas para variables numéricas\n",
        "print(\"\\nEstadísticas descriptivas para variables numéricas:\")\n",
        "print(df.describe())  # Muestra estadísticas descriptivas para las variables numéricas\n",
        "\n",
        "# Examinar los valores únicos y la distribución de variables categóricas\n",
        "print(\"\\nValores únicos y distribución de variables categóricas:\")\n",
        "categorical_columns = df.select_dtypes(include=['object']).columns\n",
        "for column in categorical_columns:\n",
        "    print(\"\\nColumna:\", column)\n",
        "    print(df[column].value_counts())  # Muestra los valores únicos y su distribución\n",
        "\n",
        "\n"
      ],
      "metadata": {
        "colab": {
          "base_uri": "https://localhost:8080/"
        },
        "id": "xlxOBY91-A3F",
        "outputId": "c039d0f2-7c26-4865-8f44-cf12355f044d"
      },
      "execution_count": 8,
      "outputs": [
        {
          "output_type": "stream",
          "name": "stderr",
          "text": [
            "Downloading...\n",
            "From: https://drive.google.com/uc?id=1TOcljFt08cx98toDGo-wIJzs44fHcvt4\n",
            "To: /content/archivo.csv\n",
            "100%|██████████| 750k/750k [00:00<00:00, 22.8MB/s]"
          ]
        },
        {
          "output_type": "stream",
          "name": "stdout",
          "text": [
            "   age            job  marital  education default  balance housing loan  \\\n",
            "0   31  self-employed  married   tertiary      no     2666      no   no   \n",
            "1   29     unemployed   single    unknown      no     1584      no   no   \n",
            "2   41    blue-collar  married  secondary      no     2152     yes   no   \n",
            "3   50    blue-collar  married  secondary      no       84     yes   no   \n",
            "\n",
            "    contact  day month  duration  campaign  pdays  previous poutcome    y  \n",
            "0  cellular   10   nov       318         2     97         6  success  yes  \n",
            "1  cellular    6   sep       245         1     -1         0  unknown  yes  \n",
            "2  cellular   17   nov       369         1     -1         0  unknown   no  \n",
            "3  cellular   17   jul        18         8     -1         0  unknown   no  \n",
            "Número de filas y columnas:\n",
            "(9000, 17)\n",
            "\n",
            "Tipos de datos de cada columna:\n",
            "age           int64\n",
            "job          object\n",
            "marital      object\n",
            "education    object\n",
            "default      object\n",
            "balance       int64\n",
            "housing      object\n",
            "loan         object\n",
            "contact      object\n",
            "day           int64\n",
            "month        object\n",
            "duration      int64\n",
            "campaign      int64\n",
            "pdays         int64\n",
            "previous      int64\n",
            "poutcome     object\n",
            "y            object\n",
            "dtype: object\n",
            "\n",
            "Valores faltantes:\n",
            "age          0\n",
            "job          0\n",
            "marital      0\n",
            "education    0\n",
            "default      0\n",
            "balance      0\n",
            "housing      0\n",
            "loan         0\n",
            "contact      0\n",
            "day          0\n",
            "month        0\n",
            "duration     0\n",
            "campaign     0\n",
            "pdays        0\n",
            "previous     0\n",
            "poutcome     0\n",
            "y            0\n",
            "dtype: int64\n",
            "\n",
            "Estadísticas descriptivas para variables numéricas:\n",
            "               age       balance          day     duration     campaign  \\\n",
            "count  9000.000000   9000.000000  9000.000000  9000.000000  9000.000000   \n",
            "mean     41.090556   1482.262778    15.619556   353.832778     2.520111   \n",
            "std      11.664253   3031.013197     8.345305   336.945158     2.737758   \n",
            "min      18.000000  -3058.000000     1.000000     3.000000     1.000000   \n",
            "25%      32.000000    109.000000     8.000000   131.000000     1.000000   \n",
            "50%      39.000000    519.000000    15.000000   240.500000     2.000000   \n",
            "75%      49.000000   1646.500000    21.000000   462.000000     3.000000   \n",
            "max      95.000000  81204.000000    31.000000  3253.000000    58.000000   \n",
            "\n",
            "             pdays     previous  \n",
            "count  9000.000000  9000.000000  \n",
            "mean     50.511333     0.788889  \n",
            "std     107.691963     2.210273  \n",
            "min      -1.000000     0.000000  \n",
            "25%      -1.000000     0.000000  \n",
            "50%      -1.000000     0.000000  \n",
            "75%      -1.000000     0.000000  \n",
            "max     850.000000    58.000000  \n",
            "\n",
            "Valores únicos y distribución de variables categóricas:\n",
            "\n",
            "Columna: job\n",
            "management       1999\n",
            "blue-collar      1688\n",
            "technician       1485\n",
            "admin.           1004\n",
            "services          771\n",
            "retired           594\n",
            "self-employed     319\n",
            "student           312\n",
            "unemployed        290\n",
            "housemaid         246\n",
            "entrepreneur      241\n",
            "unknown            51\n",
            "Name: job, dtype: int64\n",
            "\n",
            "Columna: marital\n",
            "married     5124\n",
            "single      2837\n",
            "divorced    1039\n",
            "Name: marital, dtype: int64\n",
            "\n",
            "Columna: education\n",
            "secondary    4486\n",
            "tertiary     2893\n",
            "primary      1244\n",
            "unknown       377\n",
            "Name: education, dtype: int64\n",
            "\n",
            "Columna: default\n",
            "no     8865\n",
            "yes     135\n",
            "Name: default, dtype: int64\n",
            "\n",
            "Columna: housing\n",
            "no     4564\n",
            "yes    4436\n",
            "Name: housing, dtype: int64\n",
            "\n",
            "Columna: loan\n",
            "no     7820\n",
            "yes    1180\n",
            "Name: loan, dtype: int64\n",
            "\n",
            "Columna: contact\n",
            "cellular     6438\n",
            "unknown      1982\n",
            "telephone     580\n",
            "Name: contact, dtype: int64\n",
            "\n",
            "Columna: month\n",
            "may    2361\n",
            "jul    1287\n",
            "aug    1227\n",
            "jun    1023\n",
            "nov     723\n",
            "apr     707\n",
            "feb     557\n",
            "oct     293\n",
            "jan     289\n",
            "sep     234\n",
            "mar     208\n",
            "dec      91\n",
            "Name: month, dtype: int64\n",
            "\n",
            "Columna: poutcome\n",
            "unknown    6783\n",
            "failure    1006\n",
            "success     770\n",
            "other       441\n",
            "Name: poutcome, dtype: int64\n",
            "\n",
            "Columna: y\n",
            "no     5213\n",
            "yes    3787\n",
            "Name: y, dtype: int64\n"
          ]
        },
        {
          "output_type": "stream",
          "name": "stderr",
          "text": [
            "\n"
          ]
        }
      ]
    },
    {
      "cell_type": "markdown",
      "source": [
        "Procesamiento de las variables, convertir con OneHot Encoder"
      ],
      "metadata": {
        "id": "83DRyCQ2MfZz"
      }
    },
    {
      "cell_type": "markdown",
      "source": [
        "Se utilizó OneHot encoder ya que no tienen un orden específico y son simplemente etiquetas"
      ],
      "metadata": {
        "id": "roaJQyZeOpDe"
      }
    },
    {
      "cell_type": "code",
      "source": [
        "# Convertir variables categóricas a binarias usando codificación one-hot\n",
        "df = pd.get_dummies(df, columns=categorical_columns)\n",
        "\n",
        "# Verificar el resultado\n",
        "print(df.head(4))\n",
        "\n",
        "# Imprimir las columnas generadas después de la transformación\n",
        "print(df.columns)\n"
      ],
      "metadata": {
        "colab": {
          "base_uri": "https://localhost:8080/"
        },
        "id": "wtbApdiiMkNj",
        "outputId": "f6a8e074-49b5-42e1-dce9-19f170e6d3d3"
      },
      "execution_count": 9,
      "outputs": [
        {
          "output_type": "stream",
          "name": "stdout",
          "text": [
            "   age  balance  day  duration  campaign  pdays  previous  job_admin.  \\\n",
            "0   31     2666   10       318         2     97         6           0   \n",
            "1   29     1584    6       245         1     -1         0           0   \n",
            "2   41     2152   17       369         1     -1         0           0   \n",
            "3   50       84   17        18         8     -1         0           0   \n",
            "\n",
            "   job_blue-collar  job_entrepreneur  ...  month_may  month_nov  month_oct  \\\n",
            "0                0                 0  ...          0          1          0   \n",
            "1                0                 0  ...          0          0          0   \n",
            "2                1                 0  ...          0          1          0   \n",
            "3                1                 0  ...          0          0          0   \n",
            "\n",
            "   month_sep  poutcome_failure  poutcome_other  poutcome_success  \\\n",
            "0          0                 0               0                 1   \n",
            "1          1                 0               0                 0   \n",
            "2          0                 0               0                 0   \n",
            "3          0                 0               0                 0   \n",
            "\n",
            "   poutcome_unknown  y_no  y_yes  \n",
            "0                 0     0      1  \n",
            "1                 1     0      1  \n",
            "2                 1     1      0  \n",
            "3                 1     1      0  \n",
            "\n",
            "[4 rows x 53 columns]\n",
            "Index(['age', 'balance', 'day', 'duration', 'campaign', 'pdays', 'previous',\n",
            "       'job_admin.', 'job_blue-collar', 'job_entrepreneur', 'job_housemaid',\n",
            "       'job_management', 'job_retired', 'job_self-employed', 'job_services',\n",
            "       'job_student', 'job_technician', 'job_unemployed', 'job_unknown',\n",
            "       'marital_divorced', 'marital_married', 'marital_single',\n",
            "       'education_primary', 'education_secondary', 'education_tertiary',\n",
            "       'education_unknown', 'default_no', 'default_yes', 'housing_no',\n",
            "       'housing_yes', 'loan_no', 'loan_yes', 'contact_cellular',\n",
            "       'contact_telephone', 'contact_unknown', 'month_apr', 'month_aug',\n",
            "       'month_dec', 'month_feb', 'month_jan', 'month_jul', 'month_jun',\n",
            "       'month_mar', 'month_may', 'month_nov', 'month_oct', 'month_sep',\n",
            "       'poutcome_failure', 'poutcome_other', 'poutcome_success',\n",
            "       'poutcome_unknown', 'y_no', 'y_yes'],\n",
            "      dtype='object')\n"
          ]
        }
      ]
    },
    {
      "cell_type": "markdown",
      "source": [
        "Ver si hay valores NAN"
      ],
      "metadata": {
        "id": "JNPpb2q7hCN0"
      }
    },
    {
      "cell_type": "code",
      "source": [
        "# Definir numeric_columns seleccionando solo las columnas numéricas del DataFrame\n",
        "numeric_columns = df.select_dtypes(include=['int', 'float']).columns\n",
        "\n",
        "# Verificar si hay valores faltantes en las variables numéricas\n",
        "missing_values = df[numeric_columns].isnull().any()\n",
        "\n",
        "# Imprimir los resultados\n",
        "print(\"Variables con valores faltantes:\")\n",
        "print(missing_values)\n"
      ],
      "metadata": {
        "colab": {
          "base_uri": "https://localhost:8080/"
        },
        "id": "g__2J3SYhAZx",
        "outputId": "1aeda632-7334-411f-8e6b-81b3b5c8b3b3"
      },
      "execution_count": 10,
      "outputs": [
        {
          "output_type": "stream",
          "name": "stdout",
          "text": [
            "Variables con valores faltantes:\n",
            "age         False\n",
            "balance     False\n",
            "day         False\n",
            "duration    False\n",
            "campaign    False\n",
            "pdays       False\n",
            "previous    False\n",
            "dtype: bool\n"
          ]
        }
      ]
    },
    {
      "cell_type": "markdown",
      "source": [
        "Imputación de datos faltantes"
      ],
      "metadata": {
        "id": "fZUTIKD2gbmC"
      }
    },
    {
      "cell_type": "markdown",
      "source": [
        "Determinar si existe sesgo entre las variables numericas"
      ],
      "metadata": {
        "id": "a3VOwgZEPrWd"
      }
    },
    {
      "cell_type": "code",
      "source": [
        "import scipy.stats as stats\n",
        "\n",
        "# Calcular estadísticas descriptivas para las variables numéricas\n",
        "descriptive_stats = df[numeric_columns].describe()\n",
        "\n",
        "# Imprimir las estadísticas descriptivas\n",
        "print(\"Estadísticas descriptivas para variables numéricas:\")\n",
        "print(descriptive_stats)\n",
        "\n",
        "# Calcular el coeficiente de asimetría y la curtosis para cada variable numérica\n",
        "skewness = df[numeric_columns].skew()\n",
        "kurtosis = df[numeric_columns].kurtosis()\n",
        "\n",
        "# Imprimir el coeficiente de asimetría, curtosis y si hay sesgo para cada variable numérica\n",
        "print(\"\\nVariable\\t\\tSesgo\\t\\tCurtosis\")\n",
        "for col, skew, kurt in zip(skewness.index, skewness, kurtosis):\n",
        "    if skew > 0:\n",
        "        skew_type = \"Positivo\"\n",
        "    elif skew < 0:\n",
        "        skew_type = \"Negativo\"\n",
        "    else:\n",
        "        skew_type = \"Simétrico\"\n",
        "\n",
        "    print(f\"{col}\\t\\t{skew_type} ({skew:.2f})\\t\\t{kurt:.2f}\")\n"
      ],
      "metadata": {
        "colab": {
          "base_uri": "https://localhost:8080/"
        },
        "id": "2uJgSpxfP9F5",
        "outputId": "ff9217f9-be63-4d4d-d244-bdaf0edfa6f5"
      },
      "execution_count": 11,
      "outputs": [
        {
          "output_type": "stream",
          "name": "stdout",
          "text": [
            "Estadísticas descriptivas para variables numéricas:\n",
            "               age       balance          day     duration     campaign  \\\n",
            "count  9000.000000   9000.000000  9000.000000  9000.000000  9000.000000   \n",
            "mean     41.090556   1482.262778    15.619556   353.832778     2.520111   \n",
            "std      11.664253   3031.013197     8.345305   336.945158     2.737758   \n",
            "min      18.000000  -3058.000000     1.000000     3.000000     1.000000   \n",
            "25%      32.000000    109.000000     8.000000   131.000000     1.000000   \n",
            "50%      39.000000    519.000000    15.000000   240.500000     2.000000   \n",
            "75%      49.000000   1646.500000    21.000000   462.000000     3.000000   \n",
            "max      95.000000  81204.000000    31.000000  3253.000000    58.000000   \n",
            "\n",
            "             pdays     previous  \n",
            "count  9000.000000  9000.000000  \n",
            "mean     50.511333     0.788889  \n",
            "std     107.691963     2.210273  \n",
            "min      -1.000000     0.000000  \n",
            "25%      -1.000000     0.000000  \n",
            "50%      -1.000000     0.000000  \n",
            "75%      -1.000000     0.000000  \n",
            "max     850.000000    58.000000  \n",
            "\n",
            "Variable\t\tSesgo\t\tCurtosis\n",
            "age\t\tPositivo (0.80)\t\t0.49\n",
            "balance\t\tPositivo (7.28)\t\t106.35\n",
            "day\t\tPositivo (0.12)\t\t-1.05\n",
            "duration\t\tPositivo (2.18)\t\t6.86\n",
            "campaign\t\tPositivo (5.39)\t\t51.58\n",
            "pdays\t\tPositivo (2.35)\t\t5.82\n",
            "previous\t\tPositivo (7.68)\t\t120.81\n"
          ]
        }
      ]
    },
    {
      "cell_type": "markdown",
      "source": [
        "Transformación para eliminar el sesgo logaritmica"
      ],
      "metadata": {
        "id": "BMQskC0XYdp0"
      }
    },
    {
      "cell_type": "code",
      "source": [
        "import numpy as np\n",
        "\n",
        "# Seleccionar solo las columnas numéricas para aplicar la transformación\n",
        "numeric_columns = df.select_dtypes(include=['int', 'float']).columns\n",
        "\n",
        "# Aplicar la transformación logarítmica a las columnas numéricas\n",
        "df[numeric_columns] = np.log1p(df[numeric_columns])\n",
        "\n",
        "# Calcular el coeficiente de asimetría y la curtosis para cada variable numérica después de la transformación\n",
        "skewness_after = df[numeric_columns].skew()\n",
        "kurtosis_after = df[numeric_columns].kurtosis()\n",
        "\n",
        "# Imprimir el coeficiente de asimetría, curtosis y si hay sesgo para cada variable numérica después de la transformación\n",
        "print(\"\\nVariable\\t\\tSesgo después\\t\\tCurtosis después\")\n",
        "for col, skew, kurt in zip(skewness_after.index, skewness_after, kurtosis_after):\n",
        "    if skew > 0:\n",
        "        skew_type = \"Positivo\"\n",
        "    elif skew < 0:\n",
        "        skew_type = \"Negativo\"\n",
        "    else:\n",
        "        skew_type = \"Simétrico\"\n",
        "\n",
        "    print(f\"{col}\\t\\t{skew_type} ({skew:.2f})\\t\\t{kurt:.2f}\")\n"
      ],
      "metadata": {
        "colab": {
          "base_uri": "https://localhost:8080/"
        },
        "id": "CAkZ25WQhW8v",
        "outputId": "6bc1bea7-f909-4f5f-95ab-373852eb756d"
      },
      "execution_count": 15,
      "outputs": [
        {
          "output_type": "stream",
          "name": "stdout",
          "text": [
            "\n",
            "Variable\t\tSesgo después\t\tCurtosis después\n",
            "age\t\tPositivo (0.05)\t\t-0.51\n",
            "balance\t\tNegativo (-2.38)\t\t4.78\n",
            "day\t\tNegativo (-1.36)\t\t1.71\n",
            "duration\t\tNegativo (-1.17)\t\t3.00\n",
            "campaign\t\tPositivo (0.85)\t\t0.16\n",
            "pdays\t\tNegativo (-4.21)\t\t27.73\n",
            "previous\t\tPositivo (1.53)\t\t0.88\n"
          ]
        },
        {
          "output_type": "stream",
          "name": "stderr",
          "text": [
            "/usr/local/lib/python3.10/dist-packages/pandas/core/internals/blocks.py:351: RuntimeWarning: invalid value encountered in log1p\n",
            "  result = func(self.values, **kwargs)\n"
          ]
        }
      ]
    },
    {
      "cell_type": "markdown",
      "source": [
        "Transformación usando boxcox"
      ],
      "metadata": {
        "id": "rm5BciIpkHO0"
      }
    },
    {
      "cell_type": "markdown",
      "source": [
        "Más transformación"
      ],
      "metadata": {
        "id": "_bs0snu_jPXj"
      }
    },
    {
      "cell_type": "code",
      "source": [
        "from sklearn.preprocessing import PowerTransformer\n",
        "\n",
        "# Lista de variables con sesgo que deseas transformar\n",
        "variables_con_sesgo = ['balance', 'day', 'duration']\n",
        "\n",
        "# Aplicar la transformación de potencia a las variables con sesgo\n",
        "pt = PowerTransformer(method='yeo-johnson', standardize=False)\n",
        "df[variables_con_sesgo] = pt.fit_transform(df[variables_con_sesgo])\n",
        "\n",
        "# Calcular el coeficiente de asimetría y la curtosis después de la transformación\n",
        "skewness_after = df[numeric_columns].skew()\n",
        "kurtosis_after = df[numeric_columns].kurtosis()\n",
        "\n",
        "# Imprimir el coeficiente de asimetría, curtosis y si hay sesgo para cada variable numérica después de la transformación\n",
        "print(\"\\nVariable\\t\\tSesgo después\\t\\tCurtosis después\")\n",
        "for col, skew, kurt in zip(skewness_after.index, skewness_after, kurtosis_after):\n",
        "    if skew > 0:\n",
        "        skew_type = \"Positivo\"\n",
        "    elif skew < 0:\n",
        "        skew_type = \"Negativo\"\n",
        "    else:\n",
        "        skew_type = \"Simétrico\"\n",
        "\n",
        "    print(f\"{col}\\t\\t{skew_type} ({skew:.2f})\\t\\t{kurt:.2f}\")\n"
      ],
      "metadata": {
        "colab": {
          "base_uri": "https://localhost:8080/"
        },
        "id": "T_L0kRBdjRzo",
        "outputId": "9a2803ae-1616-4a3e-be99-6836626727d3"
      },
      "execution_count": 16,
      "outputs": [
        {
          "output_type": "stream",
          "name": "stdout",
          "text": [
            "\n",
            "Variable\t\tSesgo después\t\tCurtosis después\n",
            "age\t\tPositivo (0.05)\t\t-0.51\n",
            "balance\t\tNegativo (-0.71)\t\t0.13\n",
            "day\t\tNegativo (-0.28)\t\t-0.97\n",
            "duration\t\tNegativo (-0.01)\t\t-0.11\n",
            "campaign\t\tPositivo (0.85)\t\t0.16\n",
            "pdays\t\tNegativo (-4.21)\t\t27.73\n",
            "previous\t\tPositivo (1.53)\t\t0.88\n"
          ]
        }
      ]
    },
    {
      "cell_type": "markdown",
      "source": [
        "Separar en 60, 20 y 20"
      ],
      "metadata": {
        "id": "R1HBNC0xkOqX"
      }
    },
    {
      "cell_type": "code",
      "source": [
        "import pandas as pd\n",
        "from sklearn.model_selection import train_test_split\n",
        "from sklearn.linear_model import LogisticRegression\n",
        "from sklearn.metrics import accuracy_score\n",
        "\n",
        "# Suponiendo que 'X' son tus características y 'y' es tu variable objetivo\n",
        "X = df.drop(columns=['y_yes', 'y_no'])  # Eliminar las columnas 'y_yes' y 'y_no' de las características\n",
        "y = df['y_yes']  # Tomar solo la columna 'y_yes' como variable objetivo\n",
        "\n",
        "# Imputar valores NaN con la media\n",
        "X = X.fillna(X.mean())\n",
        "\n",
        "# Dividir los datos en entrenamiento (60%), validación (20%) y prueba (20%)\n",
        "X_train, X_temp, y_train, y_temp = train_test_split(X, y, test_size=0.4, random_state=42)\n",
        "X_val, X_test, y_val, y_test = train_test_split(X_temp, y_temp, test_size=0.5, random_state=42)\n",
        "\n",
        "# Verificar los tamaños de los conjuntos de datos resultantes\n",
        "print(\"Forma de conjunto de entrenamiento:\", X_train.shape, y_train.shape)\n",
        "print(\"Forma de conjunto de validación:\", X_val.shape, y_val.shape)\n",
        "print(\"Forma de conjunto de prueba:\", X_test.shape, y_test.shape)\n"
      ],
      "metadata": {
        "colab": {
          "base_uri": "https://localhost:8080/"
        },
        "id": "q_J_QUAukdRh",
        "outputId": "8470f36c-2715-4c94-e4b5-9ca78e10a202"
      },
      "execution_count": 17,
      "outputs": [
        {
          "output_type": "stream",
          "name": "stdout",
          "text": [
            "Forma de conjunto de entrenamiento: (5400, 51) (5400,)\n",
            "Forma de conjunto de validación: (1800, 51) (1800,)\n",
            "Forma de conjunto de prueba: (1800, 51) (1800,)\n"
          ]
        }
      ]
    },
    {
      "cell_type": "markdown",
      "source": [
        "Aplica el modelo de regresión logistica"
      ],
      "metadata": {
        "id": "QuUrurUgnLG8"
      }
    },
    {
      "cell_type": "code",
      "source": [
        "from sklearn.linear_model import LogisticRegression\n",
        "\n",
        "# Crear el modelo de regresión logística con un número máximo de iteraciones aumentado\n",
        "model = LogisticRegression(max_iter=1000)  # Aumentar el número máximo de iteraciones a 1000\n",
        "\n",
        "# Aplicar la regresión logística en el conjunto de entrenamiento\n",
        "model.fit(X_train, y_train)\n",
        "\n",
        "# Predecir en el conjunto de validación\n",
        "y_val_pred = model.predict(X_val)\n",
        "\n",
        "# Calcular la precisión en el conjunto de validación\n",
        "accuracy = accuracy_score(y_val, y_val_pred)\n",
        "print(\"Precisión en el conjunto de validación:\", accuracy)\n"
      ],
      "metadata": {
        "colab": {
          "base_uri": "https://localhost:8080/"
        },
        "id": "hFJNJyZ7nOue",
        "outputId": "0e609dd9-d477-4eef-a52d-73cf9bdabf27"
      },
      "execution_count": 27,
      "outputs": [
        {
          "output_type": "stream",
          "name": "stdout",
          "text": [
            "Precisión en el conjunto de validación: 0.8222222222222222\n"
          ]
        },
        {
          "output_type": "stream",
          "name": "stderr",
          "text": [
            "/usr/local/lib/python3.10/dist-packages/sklearn/linear_model/_logistic.py:458: ConvergenceWarning: lbfgs failed to converge (status=1):\n",
            "STOP: TOTAL NO. of ITERATIONS REACHED LIMIT.\n",
            "\n",
            "Increase the number of iterations (max_iter) or scale the data as shown in:\n",
            "    https://scikit-learn.org/stable/modules/preprocessing.html\n",
            "Please also refer to the documentation for alternative solver options:\n",
            "    https://scikit-learn.org/stable/modules/linear_model.html#logistic-regression\n",
            "  n_iter_i = _check_optimize_result(\n"
          ]
        }
      ]
    },
    {
      "cell_type": "markdown",
      "source": [
        "Validar el modelo con las predicciones del conjunto de validación y su matriz de confusión"
      ],
      "metadata": {
        "id": "afKhk-XWoW8Z"
      }
    },
    {
      "cell_type": "code",
      "source": [
        "from sklearn.metrics import confusion_matrix\n",
        "\n",
        "# Hacer predicciones en el conjunto de validación\n",
        "y_val_pred = model.predict(X_val)\n",
        "\n",
        "# Calcular la matriz de confusión\n",
        "conf_matrix = confusion_matrix(y_val, y_val_pred)\n",
        "print(\"Matriz de Confusión:\")\n",
        "print(conf_matrix)\n"
      ],
      "metadata": {
        "colab": {
          "base_uri": "https://localhost:8080/"
        },
        "id": "lGPGcHekoiVD",
        "outputId": "6e18c7b2-8a7f-41f9-c6fe-adb9c2735dcf"
      },
      "execution_count": 28,
      "outputs": [
        {
          "output_type": "stream",
          "name": "stdout",
          "text": [
            "Matriz de Confusión:\n",
            "[[901 157]\n",
            " [163 579]]\n"
          ]
        }
      ]
    },
    {
      "cell_type": "markdown",
      "source": [
        "Red neuronal"
      ],
      "metadata": {
        "id": "Lx1wwunex83x"
      }
    },
    {
      "cell_type": "code",
      "source": [
        "import tensorflow as tf\n",
        "from tensorflow import keras\n",
        "from sklearn.preprocessing import StandardScaler\n",
        "\n",
        "# Crear un objeto StandardScaler\n",
        "scaler = StandardScaler()\n",
        "\n",
        "# Ajustar el scaler a los datos de entrenamiento y transformar los datos de entrenamiento\n",
        "X_train_scaled = scaler.fit_transform(X_train)\n",
        "\n",
        "# Transformar los datos de validación y prueba utilizando el scaler ajustado a los datos de entrenamiento\n",
        "X_val_scaled = scaler.transform(X_val)\n",
        "X_test_scaled = scaler.transform(X_test)\n",
        "\n",
        "# Definir la arquitectura de la red neuronal\n",
        "model = keras.Sequential([\n",
        "    keras.layers.Dense(64, activation='relu', input_shape=(X_train_scaled.shape[1],)),  # Capa oculta con 64 neuronas y activación ReLU\n",
        "    keras.layers.Dense(1, activation='sigmoid')  # Capa de salida con 1 neurona y activación sigmoide para problemas de clasificación binaria\n",
        "])\n",
        "\n",
        "# Compilar el modelo\n",
        "model.compile(optimizer='adam',  # Algoritmo de optimización\n",
        "              loss='binary_crossentropy',  # Función de pérdida para problemas de clasificación binaria\n",
        "              metrics=['accuracy'])  # Métrica a evaluar durante el entrenamiento\n",
        "\n",
        "# Ajustar el modelo a los datos de entrenamiento\n",
        "history = model.fit(X_train_scaled, y_train, epochs=10, validation_data=(X_val_scaled, y_val))\n"
      ],
      "metadata": {
        "colab": {
          "base_uri": "https://localhost:8080/"
        },
        "id": "Tx3IgNJnzL5W",
        "outputId": "57c7d0e1-5776-4460-c813-956750c51713"
      },
      "execution_count": 30,
      "outputs": [
        {
          "output_type": "stream",
          "name": "stdout",
          "text": [
            "Epoch 1/10\n",
            "169/169 [==============================] - 2s 3ms/step - loss: 0.5396 - accuracy: 0.7333 - val_loss: 0.4356 - val_accuracy: 0.8150\n",
            "Epoch 2/10\n",
            "169/169 [==============================] - 0s 3ms/step - loss: 0.4028 - accuracy: 0.8283 - val_loss: 0.3875 - val_accuracy: 0.8228\n",
            "Epoch 3/10\n",
            "169/169 [==============================] - 0s 2ms/step - loss: 0.3658 - accuracy: 0.8428 - val_loss: 0.3755 - val_accuracy: 0.8244\n",
            "Epoch 4/10\n",
            "169/169 [==============================] - 0s 2ms/step - loss: 0.3499 - accuracy: 0.8535 - val_loss: 0.3749 - val_accuracy: 0.8272\n",
            "Epoch 5/10\n",
            "169/169 [==============================] - 0s 3ms/step - loss: 0.3394 - accuracy: 0.8546 - val_loss: 0.3753 - val_accuracy: 0.8300\n",
            "Epoch 6/10\n",
            "169/169 [==============================] - 0s 2ms/step - loss: 0.3310 - accuracy: 0.8594 - val_loss: 0.3726 - val_accuracy: 0.8367\n",
            "Epoch 7/10\n",
            "169/169 [==============================] - 0s 2ms/step - loss: 0.3238 - accuracy: 0.8606 - val_loss: 0.3686 - val_accuracy: 0.8406\n",
            "Epoch 8/10\n",
            "169/169 [==============================] - 0s 2ms/step - loss: 0.3165 - accuracy: 0.8637 - val_loss: 0.3684 - val_accuracy: 0.8350\n",
            "Epoch 9/10\n",
            "169/169 [==============================] - 0s 2ms/step - loss: 0.3108 - accuracy: 0.8676 - val_loss: 0.3660 - val_accuracy: 0.8456\n",
            "Epoch 10/10\n",
            "169/169 [==============================] - 0s 3ms/step - loss: 0.3050 - accuracy: 0.8722 - val_loss: 0.3697 - val_accuracy: 0.8422\n"
          ]
        }
      ]
    },
    {
      "cell_type": "markdown",
      "source": [
        "Valida el modelo con las predicciones del conjunto de validación y su matriz de confusion"
      ],
      "metadata": {
        "id": "FoBwn1Zvzx5a"
      }
    },
    {
      "cell_type": "code",
      "source": [
        "# Hacer predicciones de probabilidad en el conjunto de validación\n",
        "y_val_prob = model.predict(X_val_scaled)\n",
        "\n",
        "# Convertir las probabilidades en clases utilizando un umbral (por ejemplo, 0.5)\n",
        "y_val_pred = (y_val_prob > 0.5).astype(int)\n",
        "\n",
        "# Calcular la matriz de confusión\n",
        "conf_matrix = confusion_matrix(y_val, y_val_pred)\n",
        "print(\"Matriz de Confusión:\")\n",
        "print(conf_matrix)\n"
      ],
      "metadata": {
        "colab": {
          "base_uri": "https://localhost:8080/"
        },
        "id": "fu3NYlcw0Chq",
        "outputId": "ce8c0390-9893-49ad-9d9f-6b47499e4b53"
      },
      "execution_count": 31,
      "outputs": [
        {
          "output_type": "stream",
          "name": "stdout",
          "text": [
            "Matriz de Confusión:\n",
            "[[913 145]\n",
            " [139 603]]\n"
          ]
        }
      ]
    },
    {
      "cell_type": "code",
      "source": [
        "from tensorflow.keras.wrappers.scikit_learn import KerasClassifier\n",
        "from sklearn.model_selection import GridSearchCV\n",
        "\n",
        "# Función para construir el modelo\n",
        "def build_model(neurons=64, hidden_layers=1):\n",
        "    model = keras.Sequential()\n",
        "    # Capa de entrada\n",
        "    model.add(keras.layers.Dense(neurons, activation='relu', input_shape=(X_train_scaled.shape[1],)))\n",
        "    # Capas ocultas\n",
        "    for _ in range(hidden_layers):\n",
        "        model.add(keras.layers.Dense(neurons, activation='relu'))\n",
        "    # Capa de salida\n",
        "    model.add(keras.layers.Dense(1, activation='sigmoid'))\n",
        "    # Compilar el modelo\n",
        "    model.compile(optimizer='adam', loss='binary_crossentropy', metrics=['accuracy'])\n",
        "    return model\n",
        "\n",
        "# Crear un modelo KerasClassifier\n",
        "model = KerasClassifier(build_fn=build_model, epochs=10, batch_size=32, verbose=0)\n",
        "\n",
        "# Definir los parámetros para la búsqueda en la grilla\n",
        "param_grid = {\n",
        "    'neurons': [32, 64, 128],\n",
        "    'hidden_layers': [1, 2, 3]\n",
        "}\n",
        "\n",
        "# Realizar la búsqueda en la grilla\n",
        "grid_search = GridSearchCV(estimator=model, param_grid=param_grid, cv=3)\n",
        "grid_result = grid_search.fit(X_train_scaled, y_train)\n",
        "\n",
        "# Mostrar los resultados\n",
        "print(\"Mejor precisión obtenida:\", grid_result.best_score_)\n",
        "print(\"Mejores parámetros:\", grid_result.best_params_)\n"
      ],
      "metadata": {
        "colab": {
          "base_uri": "https://localhost:8080/"
        },
        "id": "PXeVgsJ801OD",
        "outputId": "6876f33f-404e-4d43-bea5-910b6bcd456e"
      },
      "execution_count": 32,
      "outputs": [
        {
          "output_type": "stream",
          "name": "stderr",
          "text": [
            "<ipython-input-32-ceedb1c649d5>:19: DeprecationWarning: KerasClassifier is deprecated, use Sci-Keras (https://github.com/adriangb/scikeras) instead. See https://www.adriangb.com/scikeras/stable/migration.html for help migrating.\n",
            "  model = KerasClassifier(build_fn=build_model, epochs=10, batch_size=32, verbose=0)\n"
          ]
        },
        {
          "output_type": "stream",
          "name": "stdout",
          "text": [
            "Mejor precisión obtenida: 0.8324073950449625\n",
            "Mejores parámetros: {'hidden_layers': 1, 'neurons': 64}\n"
          ]
        }
      ]
    },
    {
      "cell_type": "markdown",
      "source": [
        "Mejor modelo encontrado"
      ],
      "metadata": {
        "id": "VZal03mZ7k4e"
      }
    },
    {
      "cell_type": "code",
      "source": [
        "# Utiliza el mejor modelo encontrado con los mejores parámetros\n",
        "best_model = build_model(neurons=64, hidden_layers=1)\n",
        "\n",
        "# Entrena el mejor modelo utilizando todo el conjunto de entrenamiento\n",
        "best_model.fit(X_train_scaled, y_train, epochs=10, batch_size=32, verbose=0)\n",
        "\n",
        "# Utiliza el mejor modelo para hacer predicciones en el conjunto de prueba\n",
        "y_test_pred_probs = best_model.predict(X_test_scaled)\n",
        "\n",
        "# Redondea las probabilidades para obtener las clases predichas (0 o 1)\n",
        "y_test_pred = (y_test_pred_probs > 0.5).astype(int)\n",
        "\n",
        "# Calcula la precisión en el conjunto de prueba\n",
        "accuracy = accuracy_score(y_test, y_test_pred)\n",
        "print(\"Precisión en el conjunto de prueba:\", accuracy)\n",
        "\n",
        "# Genera la matriz de confusión para evaluar el rendimiento del modelo en el conjunto de prueba\n",
        "conf_matrix = confusion_matrix(y_test, y_test_pred)\n",
        "print(\"Matriz de Confusión en el conjunto de prueba:\")\n",
        "print(conf_matrix)\n"
      ],
      "metadata": {
        "colab": {
          "base_uri": "https://localhost:8080/"
        },
        "id": "O9v3gGrn7m7j",
        "outputId": "47345d3a-1906-4a92-bed3-08ee24d216d8"
      },
      "execution_count": 34,
      "outputs": [
        {
          "output_type": "stream",
          "name": "stdout",
          "text": [
            "Precisión en el conjunto de prueba: 0.8388888888888889\n",
            "Matriz de Confusión en el conjunto de prueba:\n",
            "[[843 162]\n",
            " [128 667]]\n"
          ]
        }
      ]
    }
  ]
}